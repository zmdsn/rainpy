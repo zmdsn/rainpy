{
  "cells": [
    {
      "cell_type": "code",
      "execution_count": 1,
      "metadata": {},
      "outputs": [
        {
          "name": "stdout",
          "output_type": "stream",
          "text": [
            "Requirement already satisfied: ipython in /home/zmdsn/miniconda3/envs/rainpy/lib/python3.11/site-packages (8.27.0)\n",
            "Requirement already satisfied: decorator in /home/zmdsn/miniconda3/envs/rainpy/lib/python3.11/site-packages (from ipython) (5.1.1)\n",
            "Requirement already satisfied: jedi>=0.16 in /home/zmdsn/miniconda3/envs/rainpy/lib/python3.11/site-packages (from ipython) (0.19.1)\n",
            "Requirement already satisfied: matplotlib-inline in /home/zmdsn/miniconda3/envs/rainpy/lib/python3.11/site-packages (from ipython) (0.1.7)\n",
            "Requirement already satisfied: prompt-toolkit<3.1.0,>=3.0.41 in /home/zmdsn/miniconda3/envs/rainpy/lib/python3.11/site-packages (from ipython) (3.0.47)\n",
            "Requirement already satisfied: pygments>=2.4.0 in /home/zmdsn/miniconda3/envs/rainpy/lib/python3.11/site-packages (from ipython) (2.18.0)\n",
            "Requirement already satisfied: stack-data in /home/zmdsn/miniconda3/envs/rainpy/lib/python3.11/site-packages (from ipython) (0.6.3)\n",
            "Requirement already satisfied: traitlets>=5.13.0 in /home/zmdsn/miniconda3/envs/rainpy/lib/python3.11/site-packages (from ipython) (5.14.3)\n",
            "Requirement already satisfied: typing-extensions>=4.6 in /home/zmdsn/miniconda3/envs/rainpy/lib/python3.11/site-packages (from ipython) (4.12.2)\n",
            "Requirement already satisfied: pexpect>4.3 in /home/zmdsn/miniconda3/envs/rainpy/lib/python3.11/site-packages (from ipython) (4.9.0)\n",
            "Requirement already satisfied: parso<0.9.0,>=0.8.3 in /home/zmdsn/miniconda3/envs/rainpy/lib/python3.11/site-packages (from jedi>=0.16->ipython) (0.8.4)\n",
            "Requirement already satisfied: ptyprocess>=0.5 in /home/zmdsn/miniconda3/envs/rainpy/lib/python3.11/site-packages (from pexpect>4.3->ipython) (0.7.0)\n",
            "Requirement already satisfied: wcwidth in /home/zmdsn/miniconda3/envs/rainpy/lib/python3.11/site-packages (from prompt-toolkit<3.1.0,>=3.0.41->ipython) (0.2.13)\n",
            "Requirement already satisfied: executing>=1.2.0 in /home/zmdsn/miniconda3/envs/rainpy/lib/python3.11/site-packages (from stack-data->ipython) (2.1.0)\n",
            "Requirement already satisfied: asttokens>=2.1.0 in /home/zmdsn/miniconda3/envs/rainpy/lib/python3.11/site-packages (from stack-data->ipython) (2.4.1)\n",
            "Requirement already satisfied: pure-eval in /home/zmdsn/miniconda3/envs/rainpy/lib/python3.11/site-packages (from stack-data->ipython) (0.2.3)\n",
            "Requirement already satisfied: six>=1.12.0 in /home/zmdsn/miniconda3/envs/rainpy/lib/python3.11/site-packages (from asttokens>=2.1.0->stack-data->ipython) (1.16.0)\n",
            "Collecting pipenv\n",
            "  Downloading pipenv-2024.0.1-py3-none-any.whl.metadata (19 kB)\n",
            "Collecting certifi (from pipenv)\n",
            "  Downloading certifi-2024.8.30-py3-none-any.whl.metadata (2.2 kB)\n",
            "Requirement already satisfied: setuptools>=67 in /home/zmdsn/miniconda3/envs/rainpy/lib/python3.11/site-packages (from pipenv) (72.1.0)\n",
            "Collecting virtualenv>=20.24.2 (from pipenv)\n",
            "  Downloading virtualenv-20.26.4-py3-none-any.whl.metadata (4.5 kB)\n",
            "Collecting distlib<1,>=0.3.7 (from virtualenv>=20.24.2->pipenv)\n",
            "  Downloading distlib-0.3.8-py2.py3-none-any.whl.metadata (5.1 kB)\n",
            "Collecting filelock<4,>=3.12.2 (from virtualenv>=20.24.2->pipenv)\n",
            "  Downloading filelock-3.16.0-py3-none-any.whl.metadata (3.0 kB)\n",
            "Requirement already satisfied: platformdirs<5,>=3.9.1 in /home/zmdsn/miniconda3/envs/rainpy/lib/python3.11/site-packages (from virtualenv>=20.24.2->pipenv) (4.3.2)\n",
            "Downloading pipenv-2024.0.1-py3-none-any.whl (3.2 MB)\n",
            "\u001b[2K   \u001b[90m━━━━━━━━━━━━━━━━━━━━━━━━━━━━━━━━━━━━━━━━\u001b[0m \u001b[32m3.2/3.2 MB\u001b[0m \u001b[31m20.4 kB/s\u001b[0m eta \u001b[36m0:00:00\u001b[0m00:02\u001b[0m00:15\u001b[0m\n",
            "\u001b[?25hDownloading virtualenv-20.26.4-py3-none-any.whl (6.0 MB)\n",
            "\u001b[2K   \u001b[90m━━━━━━━━━━━━━━━━━━━━━━━━━━━━━━━━━━━━━━━━\u001b[0m \u001b[32m6.0/6.0 MB\u001b[0m \u001b[31m23.1 kB/s\u001b[0m eta \u001b[36m0:00:00\u001b[0ma \u001b[36m0:00:10\u001b[0m\n",
            "\u001b[?25hDownloading certifi-2024.8.30-py3-none-any.whl (167 kB)\n",
            "Downloading distlib-0.3.8-py2.py3-none-any.whl (468 kB)\n"
          ]
        }
      ],
      "source": [
        "from rainpy.raindrop import make_frame\n",
        "\n",
        "from collections import namedtuple\n",
        "\n",
        "drops = {\"name\": \"example\", \n",
        "                \"floder\": \"./example\", \n",
        "                \"author\": \"zmdsn\",\n",
        "                \"email\":\"zmdsn@126.com\",\n",
        "                \"url\":\"https://github.com/zmdsn/rainpy\"}\n",
        "RainDrop = namedtuple(\"RainDrop\", drops.keys())\n",
        "drop = RainDrop(**drops)\n",
        "\n",
        "make_frame(drop)"
      ]
    }
  ],
  "metadata": {
    "kernelspec": {
      "display_name": "rainpy",
      "language": "python",
      "name": "python3"
    },
    "language_info": {
      "codemirror_mode": {
        "name": "ipython",
        "version": 3
      },
      "file_extension": ".py",
      "mimetype": "text/x-python",
      "name": "python",
      "nbconvert_exporter": "python",
      "pygments_lexer": "ipython3",
      "version": "3.11.9"
    }
  },
  "nbformat": 4,
  "nbformat_minor": 2
}
