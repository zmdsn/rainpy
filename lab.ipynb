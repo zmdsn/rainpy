{
 "cells": [
  {
   "cell_type": "code",
   "execution_count": null,
   "metadata": {},
   "outputs": [],
   "source": [
    "from rainpy.raindrop import make_frame\n",
    "\n",
    "from collections import namedtuple\n",
    "\n",
    "drops = {\"name\": \"example\", \n",
    "                \"floder\": \"./example\", \n",
    "                \"author\": \"zmdsn\",\n",
    "                \"email\":\"zmdsn@126.com\",\n",
    "                \"url\":\"https://github.com/zmdsn/rainpy\"}\n",
    "RainDrop = namedtuple(\"RainDrop\", drops.keys())\n",
    "drop = RainDrop(**drops)\n",
    "drop"
   ]
  }
 ],
 "metadata": {
  "kernelspec": {
   "display_name": "rainpy",
   "language": "python",
   "name": "python3"
  },
  "language_info": {
   "name": "python",
   "version": "3.11.9"
  }
 },
 "nbformat": 4,
 "nbformat_minor": 2
}
